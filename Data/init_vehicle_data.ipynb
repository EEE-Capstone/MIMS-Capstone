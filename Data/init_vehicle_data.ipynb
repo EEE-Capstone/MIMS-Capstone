{
 "cells": [
  {
   "cell_type": "code",
   "execution_count": 598,
   "id": "28053db4",
   "metadata": {},
   "outputs": [],
   "source": [
    "import pandas as pd\n",
    "import sqlite3 as sql\n",
    "import numpy as np\n",
    "import re\n",
    "import string\n",
    "import os"
   ]
  },
  {
   "cell_type": "code",
   "execution_count": 599,
   "id": "a9b02b3a",
   "metadata": {},
   "outputs": [],
   "source": [
    "epa_df = pd.read_xml(\"/Users/josheverts/Downloads/vehicles.xml\")"
   ]
  },
  {
   "cell_type": "markdown",
   "id": "6752868c",
   "metadata": {},
   "source": [
    "# Load in data"
   ]
  },
  {
   "cell_type": "code",
   "execution_count": 600,
   "id": "2859f148",
   "metadata": {},
   "outputs": [],
   "source": [
    "## load in epa vehicle data for all years 1985 onwards. Join adjusted weight data to this\n",
    "epa_df = pd.read_xml(\"/Users/josheverts/Downloads/vehicles.xml\")\n",
    "\n",
    "## load in data from 2017-2023 stored as excel files\n",
    "path = \"/Users/josheverts/Documents/Epa_AdjWeights/Excel\"\n",
    "os.chdir(path)\n",
    "## data to join with adjusted weights\n",
    "weight_dfs = []\n",
    "for file in os.listdir():\n",
    "    weight_dfs.append(pd.read_excel(file))\n",
    "\n",
    "## load in data from 2000-2016, stored as .csv files\n",
    "path = \"/Users/josheverts/Documents/Epa_AdjWeights/csv\"\n",
    "os.chdir(path)\n",
    "yrs = [] ## record year for data cleaning functions\n",
    "csv_dfs = []\n",
    "for file in os.listdir():\n",
    "    df = pd.DataFrame()\n",
    "    # Check whether file is in text format or not\n",
    "    if file.endswith(\".csv\"):\n",
    "        yrs.append(int(file[:2]))\n",
    "        csv_dfs.append(pd.read_csv(file))"
   ]
  },
  {
   "cell_type": "code",
   "execution_count": 601,
   "id": "de5108d2",
   "metadata": {},
   "outputs": [],
   "source": [
    "## save data into datframes for later use\n",
    "combined_df1723 = concat_weight_data(weight_dfs, np.arange(17,24)) \n",
    "combined_csv0016 = concat_weight_data(csv_dfs, yrs)"
   ]
  },
  {
   "cell_type": "markdown",
   "id": "81f122c2",
   "metadata": {},
   "source": [
    "# Data cleaning and joining functions\n",
    "The data differs from year to year and the two datasets don't share a unique vehicle ID. Therefore we have to \n",
    "approximate a unique id with the vehicle model column. While this doesn't give a perfect join, it gives reasonable adjusted weight values to work with later. Before 2010 we join on both the make and the model, before 2009 we only join on the model because the models are recorded very differently between the datasets."
   ]
  },
  {
   "cell_type": "code",
   "execution_count": 602,
   "id": "3ae9cb6e",
   "metadata": {},
   "outputs": [],
   "source": [
    "def clean_index_adj_weights(adj_weight_df, yr):\n",
    "    if yr >= 10: ## 2010 or later\n",
    "        adj_weight_df_grouped = adj_weight_df.groupby(['Represented Test Veh Make',\n",
    "                                                       'Represented Test Veh Model', \n",
    "                                                       'Veh Mfr Code'], group_keys = False).mean(numeric_only = True)\n",
    "        adj_weight_df_grouped = adj_weight_df_grouped.reset_index()\n",
    "        adj_weight_df_grouped = adj_weight_df_grouped.reset_index()\n",
    "        adj_weight_df_grouped = adj_weight_df_grouped.rename(columns = {'index':'VehicleID'})\n",
    "        rename_dict = {'Model Year': 'Year', 'Represented Test Veh Make':'Make', 'Veh Mfr Code': 'MFRCode',\n",
    "                   'Represented Test Veh Model':'Model', 'Equivalent Test Weight (lbs.)':'AdjWeight'}\n",
    "        epa_adj_weights = adj_weight_df_grouped.rename(rename_dict, axis=1)  \n",
    "        epa_adj_weights = epa_adj_weights[['VehicleID', 'Year', 'MFRCode', 'Make', 'Model', 'AdjWeight']]\n",
    "        epa_adj_weights.astype({'Year': 'int32'})\n",
    "    else:        \n",
    "        adj_weight_df_grouped = adj_weight_df.groupby(['VI_MFR_NM',\n",
    "                                                       'CL_NM', \n",
    "                                                       'VI_MFR_CD'], group_keys = False).mean(numeric_only = True)\n",
    "        adj_weight_df_grouped = adj_weight_df_grouped.reset_index()\n",
    "        adj_weight_df_grouped = adj_weight_df_grouped.reset_index()\n",
    "        adj_weight_df_grouped = adj_weight_df_grouped.rename(columns = {'index':'VehicleID'})\n",
    "        rename_dict = {'MDLYR_DT': 'Year', 'VI_MFR_NM':'Make', 'VI_MFR_CD': 'MFRCode',\n",
    "                   'CL_NM':'Model', 'VC_DSN_ETW_MSR':'AdjWeight'}\n",
    "        epa_adj_weights = adj_weight_df_grouped.rename(rename_dict, axis=1)  \n",
    "        epa_adj_weights = epa_adj_weights[['VehicleID', 'Year', 'MFRCode', 'Make', 'Model', 'AdjWeight']]\n",
    "        epa_adj_weights.astype({'Year': 'int32'})\n",
    "        \n",
    "    return epa_adj_weights\n",
    "\n",
    "def clean_index_vehicle_data(vehicle_df):\n",
    "    \n",
    "    ## rename columns of each df\n",
    "    rename_dict = {'id': 'VehicleID', 'make': 'Make', 'model':'Model', 'mfrCode':'MFRCode', 'range': 'Range',\n",
    "              'rangeHwy': 'RangeHwy', 'year':'Year'}\n",
    "    vehicle_df = vehicle_df.rename(rename_dict, axis=1)\n",
    "    \n",
    "    ## vehicle atvType are:\n",
    "    vehicle_df['atvType'].unique()\n",
    "    ## if None or Diesel, assign ICE\n",
    "    ## if Hybrid assign HEV\n",
    "    ## if Plug-in Hybrid assigh PHEV\n",
    "    ## if FFV assign FCV\n",
    "    def convert_vals(vals):\n",
    "        out = []\n",
    "        for val in vals:\n",
    "            if pd.isna(val) == True or val == 'Diesel':\n",
    "                out.append('ICE')\n",
    "            elif val == 'Hybrid':\n",
    "                out.append('HEV')\n",
    "            elif val == 'Plug-in Hybrid':\n",
    "                out.append('PHEV')\n",
    "            elif val == 'EV':\n",
    "                out.append(val)\n",
    "            elif val == 'FFV':\n",
    "                out.append('ICE')\n",
    "            else:\n",
    "                out.append('NA')\n",
    "        return out\n",
    "    new_codes = convert_vals(vehicle_df['atvType'])\n",
    "    vehicle_df['atvType'] = new_codes\n",
    "    vehicle_df = vehicle_df[['VehicleID', 'Year', 'MFRCode', 'Make', 'Model', \n",
    "                             'Range', 'RangeHwy', 'rangeHwyA','atvType', \n",
    "                             'UHighway', 'UCity', 'city08', 'highway08', 'combE', \n",
    "                             'combinedUF', 'comb08', 'trany', 'cylinders', 'displ', 'baseModel']]\n",
    "    return vehicle_df\n",
    "\n",
    "def concat_weight_data(weight_dfs, yrs):\n",
    "    combined = pd.DataFrame()\n",
    "    for df, yr in zip(weight_dfs, yrs):\n",
    "        cleaned = clean_index_adj_weights(df, yr)\n",
    "        combined = pd.concat([combined, cleaned])\n",
    "    combined['Year'] = combined['Year'].astype('int')\n",
    "    combined['VehicleID'] = np.arange(0, len(combined)) ## assign new unique ids\n",
    "    combined = combined.reset_index().drop(['index'], axis = 1)\n",
    "    return combined\n",
    "        \n",
    "    \n",
    "def vehicle_data_join(vehicle_df, combined_weights):\n",
    "    vehicle_df = vehicle_df.copy(); combined_weights = combined_weights.copy()\n",
    "    tempdf = vehicle_df[['VehicleID','Year','Make', 'Model']]\n",
    "    tempdf2 = vehicle_df[['VehicleID', 'Make', 'Model', 'trany', 'displ', 'cylinders', 'atvType']]\n",
    "    vehicle_df['Make'] = vehicle_df['Make'].str.lower()\n",
    "    vehicle_df['baseModel'] = vehicle_df['baseModel'].str.lower()\n",
    "    vehicle_df['Model'] = vehicle_df['Model'].str.lower()\n",
    "    combined_weights['Make'] = combined_weights['Make'].str.lower()\n",
    "    combined_weights['Model'] = combined_weights['Model'].str.lower()\n",
    "    combined_weights['baseModel'] = [i.split(' ')[0] for i in combined_weights['Model']]\n",
    "    ## have to treat pre-2009 years differently, merge on Year, baseModel, not Make\n",
    "    data_before_09 = combined_weights[combined_weights['Year'] < 2010]\n",
    "    data_after_09 = combined_weights[combined_weights['Year'] >= 2010]\n",
    "    adj_join_before_09 = pd.merge(vehicle_df, combined_weights, how='inner', \n",
    "                        left_on=['Year','baseModel'], right_on = ['Year','baseModel'])\n",
    "    adj_join_after_09 = pd.merge(vehicle_df, combined_weights, how='inner', \n",
    "                        left_on=['Year', 'Make','baseModel'], right_on = ['Year', 'Make','baseModel'])\n",
    "    ## combine initial joins\n",
    "    adj_join = pd.concat([adj_join_before_09, adj_join_after_09])\n",
    "    adj_join_g = adj_join.groupby(['VehicleID_x']).agg({'UHighway': np.mean, 'UCity': np.mean, 'city08': np.mean, \n",
    "                                                    'Range': np.mean, 'RangeHwy': np.mean, 'rangeHwyA': np.mean,\n",
    "                                                    'highway08':  np.mean, 'combE': np.mean, 'combinedUF': np.mean, \n",
    "                                                    'comb08': np.mean, 'AdjWeight': np.mean})  \n",
    "    adj_join_g_j = pd.merge(adj_join_g, tempdf2, how = 'inner', left_on='VehicleID_x', right_on='VehicleID')\n",
    "    adj_join_final_cap = pd.merge(adj_join_g_j, tempdf, how = 'inner', left_on='VehicleID', right_on='VehicleID')\n",
    "    adj_join_final_cap_drop = adj_join_final_cap.drop(['Make_x', 'Model_x'], axis = 1)\n",
    "    adj_join_final_cap_drop = adj_join_final_cap_drop.rename({'Make_y': 'Make', 'Model_y': 'Model'}, axis = 1)\n",
    "    adj_join_final_cap_drop = adj_join_final_cap_drop[~adj_join_final_cap_drop.duplicated(['Year', 'Make', 'Model', 'trany', 'displ', 'cylinders'])]\n",
    "    cols = adj_join_final_cap_drop.columns.to_list()\n",
    "    cols = cols[::-1]\n",
    "    adj_join_final_cap_drop = adj_join_final_cap_drop[cols]\n",
    "    adj_join_final_cap_drop = adj_join_final_cap_drop.reset_index().drop(['index'], axis = 1)\n",
    "    \n",
    "    return adj_join_final_cap_drop\n"
   ]
  },
  {
   "cell_type": "markdown",
   "id": "88def539",
   "metadata": {},
   "source": [
    "# Join epa vehicle data to adjusted weight data"
   ]
  },
  {
   "cell_type": "code",
   "execution_count": 603,
   "id": "92dea3a8",
   "metadata": {},
   "outputs": [],
   "source": [
    "### First join the 2000-2016 data, then join the 2017-2023 data\n",
    "epa_df_cleaned = clean_index_vehicle_data(epa_df)\n",
    "joined_data_00_16 = vehicle_data_join(epa_df_cleaned, combined_csv0016)\n",
    "joined_data_17_23 = vehicle_data_join(epa_df_cleaned, combined_df1723)\n",
    "## combine joined dataframes to create years 2000-2023\n",
    "joined_data_00_23 = pd.concat([joined_data_00_16, joined_data_17_23])\n",
    "joined_data_00_23['VehicleID'] = np.arange(0, len(joined_data_00_23)) ## assign new unique ids\n",
    "joined_data_00_23 = joined_data_00_23.reset_index().drop(['index'], axis = 1)"
   ]
  },
  {
   "cell_type": "markdown",
   "id": "9f429009",
   "metadata": {},
   "source": [
    "# Add Fuel Cell Vehicle Data\n",
    "#### This data cannot yet be joined because it doesn't exist in this EPA dataset"
   ]
  },
  {
   "cell_type": "code",
   "execution_count": 604,
   "id": "87502a4c",
   "metadata": {},
   "outputs": [],
   "source": [
    "FCV_data = pd.read_csv(\"/Users/josheverts/MIMS-Capstone/Data/FCV_data.csv\")\n",
    "## concatenate to other vehicle_data\n",
    "joined_data_00_23 = pd.concat([joined_data_00_23, FCV_data])"
   ]
  },
  {
   "cell_type": "code",
   "execution_count": 605,
   "id": "a59e3c8a",
   "metadata": {},
   "outputs": [],
   "source": [
    "joined_data_00_23 = joined_data_00_23.reset_index().drop(['index'], axis = 1)\n",
    "joined_data_00_23['VehicleID'] = np.arange(0, len(joined_data_00_23)) "
   ]
  },
  {
   "cell_type": "code",
   "execution_count": 610,
   "id": "2fcee35b",
   "metadata": {},
   "outputs": [],
   "source": [
    "## drop CNG/Bi-fuel vehicles from dataset (labeled as NA)\n",
    "joined_data_00_23 = joined_data_00_23.drop(joined_data_00_23[joined_data_00_23['atvType'] == 'NA'].index)"
   ]
  },
  {
   "cell_type": "code",
   "execution_count": 611,
   "id": "685796dc",
   "metadata": {},
   "outputs": [
    {
     "data": {
      "text/plain": [
       "Text(0.5, 1.0, 'Adjusted Weight Distribution for Vehicles 2000-2023')"
      ]
     },
     "execution_count": 611,
     "metadata": {},
     "output_type": "execute_result"
    },
    {
     "data": {
      "image/png": "[encoded data removed]",
      "text/plain": [
       "<Figure size 432x288 with 1 Axes>"
      ]
     },
     "metadata": {
      "needs_background": "light"
     },
     "output_type": "display_data"
    }
   ],
   "source": [
    "plt.hist(joined_data_00_23['AdjWeight'], bins = 20)\n",
    "plt.title(\"Adjusted Weight Distribution for Vehicles 2000-2023\")"
   ]
  },
  {
   "cell_type": "code",
   "execution_count": 612,
   "id": "7c097d8e",
   "metadata": {},
   "outputs": [
    {
     "data": {
      "text/plain": [
       "Text(0.5, 1.0, 'Number of vehicle models per year in joined data')"
      ]
     },
     "execution_count": 612,
     "metadata": {},
     "output_type": "execute_result"
    },
    {
     "data": {
      "image/png": "[encoded data removed]",
      "text/plain": [
       "<Figure size 432x288 with 1 Axes>"
      ]
     },
     "metadata": {
      "needs_background": "light"
     },
     "output_type": "display_data"
    }
   ],
   "source": [
    "plt.plot(joined_data_00_23.groupby('Year').count()['Model'])\n",
    "plt.title(\"Number of vehicle models per year in joined data\")"
   ]
  },
  {
   "cell_type": "code",
   "execution_count": 614,
   "id": "ccf112d5",
   "metadata": {},
   "outputs": [],
   "source": [
    "joined_data_00_23.to_csv(\"adj_weight_data_join_2000-2023.csv\", index = False)"
   ]
  }
 ],
 "metadata": {
  "kernelspec": {
   "display_name": "Python 3",
   "language": "python",
   "name": "python3"
  },
  "language_info": {
   "codemirror_mode": {
    "name": "ipython",
    "version": 3
   },
   "file_extension": ".py",
   "mimetype": "text/x-python",
   "name": "python",
   "nbconvert_exporter": "python",
   "pygments_lexer": "ipython3",
   "version": "3.8.8"
  }
 },
 "nbformat": 4,
 "nbformat_minor": 5
}
