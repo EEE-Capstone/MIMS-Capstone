{
 "cells": [
  {
   "cell_type": "code",
   "execution_count": 104,
   "id": "386bc0b3",
   "metadata": {},
   "outputs": [],
   "source": [
    "import pandas as pd\n",
    "import sqlite3 as sql\n",
    "import numpy as np\n",
    "import re\n",
    "import string"
   ]
  },
  {
   "cell_type": "code",
   "execution_count": 183,
   "id": "70503770",
   "metadata": {},
   "outputs": [],
   "source": [
    "## join epa vehicle information to adjusted weight information for 2023-2017 years.\n",
    "epa_df = pd.read_xml(\"/Users/josheverts/Downloads/vehicles.xml\")\n",
    "\n",
    "## data to join with adjusted weights\n",
    "test_data_2023 = pd.read_excel('/Users/josheverts/Downloads/23-testcar-2022-11-03.xlsx')\n",
    "test_data_2022 = pd.read_excel('/Users/josheverts/Downloads/22-testcar-2023-02-28.xlsx')\n",
    "test_data_2021 = pd.read_excel('/Users/josheverts/Downloads/21-tstcar-2022-04-15.xlsx')\n",
    "test_data_2020 = pd.read_excel('/Users/josheverts/Downloads/20tstcar-2021-03-02.xlsx')\n",
    "test_data_2019 = pd.read_excel('/Users/josheverts/Downloads/19tstcar-2020-10-02.xlsx')\n",
    "test_data_2018 = pd.read_excel('/Users/josheverts/Downloads/18tstcar-2018-10-24.xlsx')\n",
    "test_data_2017 = pd.read_excel('/Users/josheverts/Downloads/17tstcar-2018-05-30.xlsx')"
   ]
  },
  {
   "cell_type": "code",
   "execution_count": 184,
   "id": "56e7a8bc",
   "metadata": {},
   "outputs": [],
   "source": [
    "weight_dfs = [test_data_2023, test_data_2022, test_data_2021,\n",
    "              test_data_2020, test_data_2019, test_data_2018, test_data_2017]"
   ]
  },
  {
   "cell_type": "code",
   "execution_count": 185,
   "id": "7d79c0f9",
   "metadata": {},
   "outputs": [],
   "source": [
    "def clean_index_adj_weights(adj_weight_df):\n",
    "    adj_weight_df_grouped = adj_weight_df.groupby(['Represented Test Veh Make',\n",
    "                                                   'Represented Test Veh Model', \n",
    "                                                   'Veh Mfr Code'], group_keys = False).mean(numeric_only = True)\n",
    "    adj_weight_df_grouped = adj_weight_df_grouped.reset_index()\n",
    "    adj_weight_df_grouped = adj_weight_df_grouped.reset_index()\n",
    "    adj_weight_df_grouped = adj_weight_df_grouped.rename(columns = {'index':'VehicleID'})\n",
    "    rename_dict = {'Model Year': 'Year', 'Represented Test Veh Make':'Make', 'Veh Mfr Code': 'MFRCode',\n",
    "               'Represented Test Veh Model':'Model', 'Equivalent Test Weight (lbs.)':'AdjWeight'}\n",
    "    epa_adj_weights = adj_weight_df_grouped.rename(rename_dict, axis=1)  \n",
    "    epa_adj_weights = epa_adj_weights[['VehicleID', 'Year', 'MFRCode', 'Make', 'Model', 'AdjWeight']]\n",
    "    epa_adj_weights.astype({'Year': 'int32'})\n",
    "    \n",
    "    return epa_adj_weights\n",
    "\n",
    "def clean_index_vehicle_data(vehicle_df):\n",
    "    \n",
    "    ## rename columns of each df\n",
    "    rename_dict = {'id': 'VehicleID', 'make': 'Make', 'model':'Model', 'mfrCode':'MFRCode', 'range': 'Range',\n",
    "              'rangeHwy': 'RangeHwy', 'year':'Year'}\n",
    "    vehicle_df = vehicle_df.rename(rename_dict, axis=1)\n",
    "    \n",
    "    ## vehicle atvType are:\n",
    "    vehicle_df['atvType'].unique()\n",
    "    ## if None or Diesel, assign ICE\n",
    "    ## if Hybrid assign HEV\n",
    "    ## if Plug-in Hybrid assigh PHEV\n",
    "    ## if FFV assign FCV\n",
    "    def convert_vals(vals):\n",
    "        out = []\n",
    "        for val in vals:\n",
    "            if pd.isna(val) == True or val == 'Diesel':\n",
    "                out.append('ICE')\n",
    "            elif val == 'Hybrid':\n",
    "                out.append('HEV')\n",
    "            elif val == 'Plug-in Hybrid':\n",
    "                out.append('PHEV')\n",
    "            elif val == 'EV':\n",
    "                out.append(val)\n",
    "            elif val == 'FFV':\n",
    "                out.append('FCV')\n",
    "            else:\n",
    "                out.append(None)\n",
    "        return out\n",
    "    new_codes = convert_vals(vehicle_df['atvType'])\n",
    "    vehicle_df['atvType'] = new_codes\n",
    "    vehicle_df = vehicle_df[['VehicleID', 'Year', 'MFRCode', 'Make', 'Model', \n",
    "                             'Range', 'RangeHwy', 'rangeHwyA','atvType', \n",
    "                             'UHighway', 'UCity', 'city08U', 'highway08U', 'combE', \n",
    "                             'combinedUF', 'comb08', 'trany', 'cylinders', 'displ', 'baseModel']]\n",
    "    \n",
    "    return vehicle_df\n",
    "\n",
    "def concat_weight_data(weight_dfs):\n",
    "    combined = pd.DataFrame()\n",
    "    for df in weight_dfs:\n",
    "        cleaned = clean_index_adj_weights(df)\n",
    "        combined = pd.concat([combined, cleaned])\n",
    "    combined['Year'] = combined['Year'].astype('int')\n",
    "    combined['VehicleID'] = np.arange(0, len(combined)) ## assign new unique ids\n",
    "    combined = combined.reset_index().drop(['index'], axis = 1)\n",
    "    return combined\n",
    "        \n",
    "    \n",
    "def vehicle_data_join(vehicle_df, weight_dfs):\n",
    "    combined_weights = concat_weight_data(weight_dfs)\n",
    "    tempdf = vehicle_df[['VehicleID','Year','Make', 'Model']]\n",
    "    tempdf2 = vehicle_df[['VehicleID', 'Make', 'Model', 'trany', 'displ', 'cylinders', 'atvType']]\n",
    "    vehicle_df['Make'] = vehicle_df['Make'].str.lower()\n",
    "    vehicle_df['baseModel'] = vehicle_df['baseModel'].str.lower()\n",
    "    vehicle_df['Model'] = vehicle_df['Model'].str.lower()\n",
    "    combined_weights['Make'] = combined_weights['Make'].str.lower()\n",
    "    combined_weights['Model'] = combined_weights['Model'].str.lower()\n",
    "    combined_weights['baseModel'] = [i.split(' ')[0] for i in combined_weights['Model']]\n",
    "    adj_join = pd.merge(epa_df, combined_weights, how='inner', \n",
    "                        left_on=['Year', 'Make','baseModel'], right_on = ['Year', 'Make','baseModel'])\n",
    "    adj_join_g = adj_join.groupby(['VehicleID_x']).agg({'UHighway': np.mean, 'UCity': np.mean, 'city08U': np.mean, \n",
    "                                                    'Range': np.mean, 'RangeHwy': np.mean, 'rangeHwyA': np.mean,\n",
    "                                                    'highway08U':  np.mean, 'combE': np.mean, 'combinedUF': np.mean, \n",
    "                                                    'comb08': np.mean, 'AdjWeight': np.mean})  \n",
    "    adj_join_g_j = pd.merge(adj_join_g, tempdf2, how = 'inner', left_on='VehicleID_x', right_on='VehicleID')\n",
    "    adj_join_final_cap = pd.merge(adj_join_g_j, tempdf, how = 'inner', left_on='VehicleID', right_on='VehicleID')\n",
    "    adj_join_final_cap_drop = adj_join_final_cap.drop(['Make_x', 'Model_x'], axis = 1)\n",
    "    adj_join_final_cap_drop = adj_join_final_cap_drop.rename({'Make_y': 'Make', 'Model_y': 'Model'}, axis = 1)\n",
    "#     print(adj_join_final_cap_drop.columns)\n",
    "    adj_join_final_cap_drop = adj_join_final_cap_drop[~adj_join_final_cap_drop.duplicated(['Year', 'Make', 'Model', 'trany', 'displ', 'cylinders'])]\n",
    "    cols = adj_join_final_cap_drop.columns.to_list()\n",
    "    cols = cols[::-1]\n",
    "    adj_join_final_cap_drop = adj_join_final_cap_drop[cols]\n",
    "    adj_join_final_cap_drop = adj_join_final_cap_drop.reset_index().drop(['index'], axis = 1)\n",
    "    \n",
    "    return adj_join_final_cap_drop\n"
   ]
  },
  {
   "cell_type": "code",
   "execution_count": 186,
   "id": "15aaccb0",
   "metadata": {},
   "outputs": [],
   "source": [
    "epa_df = clean_index_vehicle_data(epa_df)"
   ]
  },
  {
   "cell_type": "code",
   "execution_count": 187,
   "id": "600f0281",
   "metadata": {},
   "outputs": [],
   "source": [
    "joined_data = vehicle_data_join(epa_df, weight_dfs)"
   ]
  },
  {
   "cell_type": "code",
   "execution_count": 189,
   "id": "c279e95d",
   "metadata": {},
   "outputs": [],
   "source": [
    "joined_data.to_csv(\"adj_weight_data_join_2017-2023.csv\", index = False)"
   ]
  }
 ],
 "metadata": {
  "kernelspec": {
   "display_name": "Python 3",
   "language": "python",
   "name": "python3"
  },
  "language_info": {
   "codemirror_mode": {
    "name": "ipython",
    "version": 3
   },
   "file_extension": ".py",
   "mimetype": "text/x-python",
   "name": "python",
   "nbconvert_exporter": "python",
   "pygments_lexer": "ipython3",
   "version": "3.8.8"
  }
 },
 "nbformat": 4,
 "nbformat_minor": 5
}
